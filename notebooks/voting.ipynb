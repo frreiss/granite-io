{
 "cells": [
  {
   "cell_type": "markdown",
   "metadata": {},
   "source": [
    "# Examples usage of the majority voting I/O processor\n",
    "\n",
    "This notebook should eventually turn into documentation."
   ]
  },
  {
   "cell_type": "code",
   "execution_count": null,
   "metadata": {},
   "outputs": [],
   "source": [
    "import aconfig\n",
    "\n",
    "from granite_io.io.base import ChatCompletionInputs\n",
    "from granite_io.io.granite_3_2 import Granite3Point2InputOutputProcessor\n",
    "from granite_io.backend.openai import OpenAIBackend\n",
    "from granite_io.io.voting import MajorityVotingProcessor, integer_normalizer"
   ]
  },
  {
   "cell_type": "code",
   "execution_count": 2,
   "metadata": {},
   "outputs": [],
   "source": [
    "# Connect to a backend running on localhost.\n",
    "port = 11434\n",
    "url = f\"http://localhost:{port}/v1\"\n",
    "model_name = \"granite3.2:2b\"\n",
    "backend = OpenAIBackend(\n",
    "    aconfig.Config(\n",
    "        {\"openai_base_url\": url, \"model_name\": model_name}, override_env_vars=False\n",
    "    ),\n",
    ")"
   ]
  },
  {
   "cell_type": "code",
   "execution_count": 3,
   "metadata": {},
   "outputs": [
    {
     "data": {
      "text/plain": [
       "ChatCompletionInputs(messages=[UserMessage(content='What is 234651 + 13425?\\nAnswer with just a number please.', role='user')], tools=[], num_return_sequences=1, thinking=True)"
      ]
     },
     "execution_count": 3,
     "metadata": {},
     "output_type": "execute_result"
    }
   ],
   "source": [
    "# Ask a question with an integral answer\n",
    "completion_inputs = ChatCompletionInputs(\n",
    "    messages=[\n",
    "        {\n",
    "            \"role\": \"user\",\n",
    "            \"content\": \"What is 234651 + 13425?\\nAnswer with just a number please.\",\n",
    "        }\n",
    "    ],\n",
    "    thinking=True,\n",
    "    num_return_sequences=1,\n",
    ")\n",
    "completion_inputs"
   ]
  },
  {
   "cell_type": "code",
   "execution_count": 4,
   "metadata": {},
   "outputs": [
    {
     "name": "stdout",
     "output_type": "stream",
     "text": [
      "13425\n",
      "      234651\n",
      "-----\n",
      "      678906\n",
      "\n",
      "So, 234651 + 13425 = 678906\n",
      "\n",
      "Answer: 678906\n"
     ]
    }
   ],
   "source": [
    "# Run the question through the base model\n",
    "base_processor = Granite3Point2InputOutputProcessor(backend=backend)\n",
    "results = base_processor.create_chat_completion(completion_inputs)\n",
    "for r in results.results:\n",
    "    print(r.next_message.content)"
   ]
  },
  {
   "cell_type": "code",
   "execution_count": null,
   "metadata": {},
   "outputs": [
    {
     "name": "stdout",
     "output_type": "stream",
     "text": [
      "248076\n"
     ]
    }
   ],
   "source": [
    "# Wrap the base model's I/O processor in a majority voting I/O processor.\n",
    "voting_processor = MajorityVotingProcessor(\n",
    "    base_processor, integer_normalizer, samples_per_completion=100\n",
    ")\n",
    "results = voting_processor.create_chat_completion(completion_inputs)\n",
    "for r in results.results:\n",
    "    print(r.next_message.content)"
   ]
  },
  {
   "cell_type": "code",
   "execution_count": null,
   "metadata": {},
   "outputs": [
    {
     "data": {
      "text/plain": [
       "248076"
      ]
     },
     "execution_count": 6,
     "metadata": {},
     "output_type": "execute_result"
    }
   ],
   "source": [
    "# What's the actual answer?\n",
    "234651 + 13425"
   ]
  },
  {
   "cell_type": "code",
   "execution_count": null,
   "metadata": {},
   "outputs": [],
   "source": []
  }
 ],
 "metadata": {
  "kernelspec": {
   "display_name": "Python 3",
   "language": "python",
   "name": "python3"
  },
  "language_info": {
   "codemirror_mode": {
    "name": "ipython",
    "version": 3
   },
   "file_extension": ".py",
   "mimetype": "text/x-python",
   "name": "python",
   "nbconvert_exporter": "python",
   "pygments_lexer": "ipython3",
   "version": "3.11.11"
  }
 },
 "nbformat": 4,
 "nbformat_minor": 4
}
